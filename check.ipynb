import os
import subprocess
from IPython.display import IFrame
import time

subprocess.Popen(['streamlit', 'run', 'chat_user_interface.py'])

time.sleep(5)
IFrame(src='http://localhost:8501', width=800, height=600)
