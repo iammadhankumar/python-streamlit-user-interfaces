# Jupyter Notebook cell to run Streamlit app
import os
import subprocess
from IPython.display import IFrame
import time

# Run the Streamlit app in a subprocess
subprocess.Popen(['streamlit', 'run', 'chat_user_interface.py'])

# Allow some time for the app to start
time.sleep(5)

# Display the Streamlit app in an iframe
IFrame(src='http://localhost:8501', width=800, height=600)
